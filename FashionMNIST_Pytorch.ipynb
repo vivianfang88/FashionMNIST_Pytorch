{
 "cells": [
  {
   "cell_type": "code",
   "execution_count": 1,
   "id": "ed8fc30c",
   "metadata": {
    "ExecuteTime": {
     "end_time": "2022-04-11T08:45:54.141840Z",
     "start_time": "2022-04-11T08:45:52.352941Z"
    }
   },
   "outputs": [],
   "source": [
    "import torch\n",
    "from torchvision import datasets, transforms\n",
    "from torch import nn\n",
    "from torch import optim\n",
    "import torch.nn.functional as F\n",
    "import matplotlib.pyplot as plt"
   ]
  },
  {
   "cell_type": "code",
   "execution_count": 2,
   "id": "fdddafd0",
   "metadata": {
    "ExecuteTime": {
     "end_time": "2022-04-11T08:45:54.302510Z",
     "start_time": "2022-04-11T08:45:54.149026Z"
    }
   },
   "outputs": [],
   "source": [
    "transform = transforms.Compose([transforms.ToTensor(),\n",
    "                                transforms.Normalize([0.5],[0.5])])\n",
    "\n",
    "trainset = datasets.FashionMNIST('F_MNIST_data/', download=True, train=True, transform = transform)\n",
    "trainloader = torch.utils.data.DataLoader(trainset, batch_size=64, shuffle=True)\n",
    "\n",
    "testset = datasets.FashionMNIST('F_MNIST_data/', download=True, train=False, transform = transform)\n",
    "testloader = torch.utils.data.DataLoader(testset, batch_size=64, shuffle=True)"
   ]
  },
  {
   "cell_type": "code",
   "execution_count": 3,
   "id": "1cd0ad9b",
   "metadata": {
    "ExecuteTime": {
     "end_time": "2022-04-11T08:45:54.311458Z",
     "start_time": "2022-04-11T08:45:54.304020Z"
    }
   },
   "outputs": [
    {
     "name": "stdout",
     "output_type": "stream",
     "text": [
      "Dataset FashionMNIST\n",
      "    Number of datapoints: 60000\n",
      "    Root location: F_MNIST_data/\n",
      "    Split: Train\n",
      "    StandardTransform\n",
      "Transform: Compose(\n",
      "               ToTensor()\n",
      "               Normalize(mean=[0.5], std=[0.5])\n",
      "           )\n"
     ]
    }
   ],
   "source": [
    "print(trainset)"
   ]
  },
  {
   "cell_type": "code",
   "execution_count": 4,
   "id": "7eac9e9b",
   "metadata": {
    "ExecuteTime": {
     "end_time": "2022-04-11T08:45:54.343662Z",
     "start_time": "2022-04-11T08:45:54.313154Z"
    }
   },
   "outputs": [],
   "source": [
    "image, label = next(iter(trainloader))"
   ]
  },
  {
   "cell_type": "code",
   "execution_count": 5,
   "id": "ab34a151",
   "metadata": {
    "ExecuteTime": {
     "end_time": "2022-04-11T08:45:54.473096Z",
     "start_time": "2022-04-11T08:45:54.344658Z"
    }
   },
   "outputs": [
    {
     "data": {
      "text/plain": [
       "<matplotlib.image.AxesImage at 0x23d0fd0e580>"
      ]
     },
     "execution_count": 5,
     "metadata": {},
     "output_type": "execute_result"
    },
    {
     "data": {
      "image/png": "[encoded data removed]",
      "text/plain": [
       "<Figure size 432x288 with 1 Axes>"
      ]
     },
     "metadata": {
      "needs_background": "light"
     },
     "output_type": "display_data"
    }
   ],
   "source": [
    "plt.imshow(image[63].numpy().squeeze(), cmap='gray')"
   ]
  },
  {
   "cell_type": "markdown",
   "id": "43f16364",
   "metadata": {},
   "source": [
    "#### Building Network"
   ]
  },
  {
   "cell_type": "code",
   "execution_count": 6,
   "id": "914faff9",
   "metadata": {
    "ExecuteTime": {
     "end_time": "2022-04-11T08:45:54.489513Z",
     "start_time": "2022-04-11T08:45:54.474465Z"
    }
   },
   "outputs": [
    {
     "data": {
      "text/plain": [
       "Sequential(\n",
       "  (firstlayer): Linear(in_features=784, out_features=256, bias=True)\n",
       "  (1st act func): ReLU()\n",
       "  (1st_dropout): Dropout(p=0.5, inplace=False)\n",
       "  (second layer): Linear(in_features=256, out_features=128, bias=True)\n",
       "  (2nd act func): ReLU()\n",
       "  (2nd_dropout): Dropout(p=0.5, inplace=False)\n",
       "  (third layer): Linear(in_features=128, out_features=64, bias=True)\n",
       "  (3rd act func): ReLU()\n",
       "  (output layer): Linear(in_features=64, out_features=10, bias=True)\n",
       "  (output act func): Softmax(dim=1)\n",
       ")"
      ]
     },
     "execution_count": 6,
     "metadata": {},
     "output_type": "execute_result"
    }
   ],
   "source": [
    "from collections import OrderedDict\n",
    "\n",
    "input_size = 784\n",
    "hidden_size = [256,128,64]\n",
    "output_size = 10\n",
    "\n",
    "\n",
    "model = nn.Sequential(OrderedDict([\n",
    "    ('firstlayer', nn.Linear(input_size, hidden_size[0])),\n",
    "    ('1st act func',nn.ReLU()),\n",
    "    ('1st_dropout',nn.Dropout(0.5)),\n",
    "    ('second layer', nn.Linear(hidden_size[0], hidden_size[1])),\n",
    "    ('2nd act func', nn.ReLU()),\n",
    "    ('2nd_dropout',nn.Dropout(0.5)),\n",
    "    ('third layer', nn.Linear(hidden_size[1], hidden_size[2])),\n",
    "    ('3rd act func', nn.ReLU()),\n",
    "    ('output layer',nn.Linear(hidden_size[2],output_size)),\n",
    "    ('output act func',nn.Softmax(dim=1))\n",
    "])\n",
    ")\n",
    "model"
   ]
  },
  {
   "cell_type": "markdown",
   "id": "717768ca",
   "metadata": {
    "ExecuteTime": {
     "end_time": "2022-04-10T06:54:00.230511Z",
     "start_time": "2022-04-10T06:54:00.221391Z"
    }
   },
   "source": [
    "#### Training Network"
   ]
  },
  {
   "cell_type": "code",
   "execution_count": 7,
   "id": "aa9e214c",
   "metadata": {
    "ExecuteTime": {
     "end_time": "2022-04-11T08:45:54.497572Z",
     "start_time": "2022-04-11T08:45:54.491588Z"
    }
   },
   "outputs": [],
   "source": [
    "criterion = nn.CrossEntropyLoss()\n",
    "optimizer = optim.Adam(model.parameters(),lr=0.001)"
   ]
  },
  {
   "cell_type": "code",
   "execution_count": 8,
   "id": "88547cec",
   "metadata": {
    "ExecuteTime": {
     "end_time": "2022-04-11T08:45:54.513445Z",
     "start_time": "2022-04-11T08:45:54.498569Z"
    }
   },
   "outputs": [],
   "source": [
    "def validation(model,testloader,criterion):\n",
    "    test_loss=0\n",
    "    test_acc =0\n",
    "    \n",
    "    for test_img, test_labels in testloader:\n",
    "        test_img.resize_(test_img.shape[0],784)\n",
    "        test_output = model.forward(test_img)\n",
    "        test_loss += criterion(test_output, test_labels).item()\n",
    "        \n",
    "        ps= torch.exp(test_output) #give the exponential of probablity\n",
    "        equality = (test_labels == ps.max(dim=1)[1])\n",
    "        test_acc += equality.type(torch.FloatTensor).mean()\n",
    "\n",
    "        \n",
    "    return test_loss, test_acc\n",
    "        "
   ]
  },
  {
   "cell_type": "code",
   "execution_count": 9,
   "id": "c6f6bc98",
   "metadata": {
    "ExecuteTime": {
     "end_time": "2022-04-11T08:47:43.693160Z",
     "start_time": "2022-04-11T08:45:54.514556Z"
    }
   },
   "outputs": [
    {
     "name": "stdout",
     "output_type": "stream",
     "text": [
      "40\n",
      "Epoch: 1/2... Traning loss: -0.2520... Test Loss: -0.4608... Test Accuracy: 0.5051\n",
      "80\n",
      "Epoch: 1/2... Traning loss: -0.4905... Test Loss: -0.6107... Test Accuracy: 0.6456\n",
      "120\n",
      "Epoch: 1/2... Traning loss: -0.5800... Test Loss: -0.6168... Test Accuracy: 0.6169\n",
      "160\n",
      "Epoch: 1/2... Traning loss: -0.5930... Test Loss: -0.6456... Test Accuracy: 0.6543\n",
      "200\n",
      "Epoch: 1/2... Traning loss: -0.6172... Test Loss: -0.6564... Test Accuracy: 0.6622\n",
      "240\n",
      "Epoch: 1/2... Traning loss: -0.6303... Test Loss: -0.6707... Test Accuracy: 0.6734\n",
      "280\n",
      "Epoch: 1/2... Traning loss: -0.6610... Test Loss: -0.6810... Test Accuracy: 0.6814\n",
      "320\n",
      "Epoch: 1/2... Traning loss: -0.6769... Test Loss: -0.7302... Test Accuracy: 0.7378\n",
      "360\n",
      "Epoch: 1/2... Traning loss: -0.6995... Test Loss: -0.7239... Test Accuracy: 0.7289\n",
      "400\n",
      "Epoch: 1/2... Traning loss: -0.7204... Test Loss: -0.7469... Test Accuracy: 0.7516\n",
      "440\n",
      "Epoch: 1/2... Traning loss: -0.7331... Test Loss: -0.7537... Test Accuracy: 0.7577\n",
      "480\n",
      "Epoch: 1/2... Traning loss: -0.7332... Test Loss: -0.7561... Test Accuracy: 0.7594\n",
      "520\n",
      "Epoch: 1/2... Traning loss: -0.7438... Test Loss: -0.7627... Test Accuracy: 0.7656\n",
      "560\n",
      "Epoch: 1/2... Traning loss: -0.7399... Test Loss: -0.7531... Test Accuracy: 0.7545\n",
      "600\n",
      "Epoch: 1/2... Traning loss: -0.7419... Test Loss: -0.7549... Test Accuracy: 0.7564\n",
      "640\n",
      "Epoch: 1/2... Traning loss: -0.7341... Test Loss: -0.7626... Test Accuracy: 0.7653\n",
      "680\n",
      "Epoch: 1/2... Traning loss: -0.7418... Test Loss: -0.7608... Test Accuracy: 0.7618\n",
      "720\n",
      "Epoch: 1/2... Traning loss: -0.7381... Test Loss: -0.7584... Test Accuracy: 0.7606\n",
      "760\n",
      "Epoch: 1/2... Traning loss: -0.7474... Test Loss: -0.7623... Test Accuracy: 0.7633\n",
      "800\n",
      "Epoch: 1/2... Traning loss: -0.7354... Test Loss: -0.7614... Test Accuracy: 0.7629\n",
      "840\n",
      "Epoch: 1/2... Traning loss: -0.7371... Test Loss: -0.7535... Test Accuracy: 0.7547\n",
      "880\n",
      "Epoch: 1/2... Traning loss: -0.7277... Test Loss: -0.7605... Test Accuracy: 0.7616\n",
      "920\n",
      "Epoch: 1/2... Traning loss: -0.7626... Test Loss: -0.7661... Test Accuracy: 0.7672\n",
      "960\n",
      "Epoch: 2/2... Traning loss: -0.4161... Test Loss: -0.7668... Test Accuracy: 0.7681\n",
      "1000\n",
      "Epoch: 2/2... Traning loss: -0.7425... Test Loss: -0.7649... Test Accuracy: 0.7671\n",
      "1040\n",
      "Epoch: 2/2... Traning loss: -0.7558... Test Loss: -0.7703... Test Accuracy: 0.7717\n",
      "1080\n",
      "Epoch: 2/2... Traning loss: -0.7625... Test Loss: -0.7681... Test Accuracy: 0.7697\n",
      "1120\n",
      "Epoch: 2/2... Traning loss: -0.7464... Test Loss: -0.7669... Test Accuracy: 0.7677\n",
      "1160\n",
      "Epoch: 2/2... Traning loss: -0.7511... Test Loss: -0.7644... Test Accuracy: 0.7650\n",
      "1200\n",
      "Epoch: 2/2... Traning loss: -0.7590... Test Loss: -0.7737... Test Accuracy: 0.7744\n",
      "1240\n",
      "Epoch: 2/2... Traning loss: -0.7458... Test Loss: -0.7699... Test Accuracy: 0.7712\n",
      "1280\n",
      "Epoch: 2/2... Traning loss: -0.7506... Test Loss: -0.7750... Test Accuracy: 0.7764\n",
      "1320\n",
      "Epoch: 2/2... Traning loss: -0.7448... Test Loss: -0.7718... Test Accuracy: 0.7733\n",
      "1360\n",
      "Epoch: 2/2... Traning loss: -0.7698... Test Loss: -0.7744... Test Accuracy: 0.7754\n",
      "1400\n",
      "Epoch: 2/2... Traning loss: -0.7631... Test Loss: -0.7770... Test Accuracy: 0.7778\n",
      "1440\n",
      "Epoch: 2/2... Traning loss: -0.7662... Test Loss: -0.7765... Test Accuracy: 0.7779\n",
      "1480\n",
      "Epoch: 2/2... Traning loss: -0.7639... Test Loss: -0.7703... Test Accuracy: 0.7701\n",
      "1520\n",
      "Epoch: 2/2... Traning loss: -0.7587... Test Loss: -0.7757... Test Accuracy: 0.7771\n",
      "1560\n",
      "Epoch: 2/2... Traning loss: -0.7482... Test Loss: -0.7757... Test Accuracy: 0.7756\n",
      "1600\n",
      "Epoch: 2/2... Traning loss: -0.7623... Test Loss: -0.7640... Test Accuracy: 0.7648\n",
      "1640\n",
      "Epoch: 2/2... Traning loss: -0.7733... Test Loss: -0.7793... Test Accuracy: 0.7803\n",
      "1680\n",
      "Epoch: 2/2... Traning loss: -0.7766... Test Loss: -0.7656... Test Accuracy: 0.7657\n",
      "1720\n",
      "Epoch: 2/2... Traning loss: -0.7583... Test Loss: -0.7743... Test Accuracy: 0.7751\n",
      "1760\n",
      "Epoch: 2/2... Traning loss: -0.7621... Test Loss: -0.7733... Test Accuracy: 0.7742\n",
      "1800\n",
      "Epoch: 2/2... Traning loss: -0.7614... Test Loss: -0.7734... Test Accuracy: 0.7745\n",
      "1840\n",
      "Epoch: 2/2... Traning loss: -0.7600... Test Loss: -0.7776... Test Accuracy: 0.7779\n"
     ]
    }
   ],
   "source": [
    "epochs =2\n",
    "print_every = 40\n",
    "steps =0\n",
    "\n",
    "for e in range(epochs):\n",
    "    model.train()\n",
    "    running_loss =0\n",
    "    for images, labels in trainloader:\n",
    "        steps+=1\n",
    "#         print(images.size())\n",
    "        images.resize_(images.shape[0],784)\n",
    "        \n",
    "        optimizer.zero_grad()\n",
    "        \n",
    "        output = model.forward(images)\n",
    "        loss = criterion(output, labels)\n",
    "        loss.backward()\n",
    "        optimizer.step()\n",
    "        \n",
    "        running_loss += loss.item() #get loss from tensor\n",
    "        \n",
    "        if steps % print_every == 0:\n",
    "            print(steps)\n",
    "            model.eval() # turn dropout off\n",
    "            \n",
    "            with torch.no_grad():\n",
    "                test_loss, test_acc = validation(model,testloader,criterion)\n",
    "                \n",
    "                print('Epoch: {}/{}...'.format(e+1,epochs),\n",
    "                      'Traning loss: {:.4f}...'.format(running_loss/print_every),\n",
    "                      'Test Loss: {:.4f}...'.format(test_loss/len(testloader)),\n",
    "                      'Test Accuracy: {:.4f}'.format(test_acc/len(testloader)) \n",
    "                     )#mean loss\n",
    "                \n",
    "\n",
    "            running_loss= 0\n",
    "            \n",
    "            model.train() #turn dropout on"
   ]
  },
  {
   "cell_type": "markdown",
   "id": "c4df6464",
   "metadata": {},
   "source": [
    "#### Make Prediction"
   ]
  },
  {
   "cell_type": "code",
   "execution_count": 12,
   "id": "eeeabb33",
   "metadata": {
    "ExecuteTime": {
     "end_time": "2022-04-11T09:05:01.338752Z",
     "start_time": "2022-04-11T09:05:01.176824Z"
    }
   },
   "outputs": [
    {
     "data": {
      "image/png": "[encoded data removed]",
      "text/plain": [
       "<Figure size 432x648 with 2 Axes>"
      ]
     },
     "metadata": {
      "needs_background": "light"
     },
     "output_type": "display_data"
    }
   ],
   "source": [
    "test_iter = iter(testloader)\n",
    "test_images, test_labels = test_iter.next()\n",
    "img = test_images[3]\n",
    "# Convert 2D image to 1D vector\n",
    "img = img.resize_(1, 784)\n",
    "\n",
    "# TODO: Calculate the class probabilities (softmax) for img\n",
    "with torch.no_grad():\n",
    "    output = model.forward(img)\n",
    "    \n",
    "ps = torch.exp(model(img)) #torch.exp == F.softmax ; torch.no_grad speed up the process (but here didnt use)\n",
    "\n",
    "# Plot the image and probabilities\n",
    "import udacity_helper as helper\n",
    "helper.view_classify(img.resize_(1, 28, 28), ps, version='Fashion')"
   ]
  },
  {
   "cell_type": "code",
   "execution_count": null,
   "id": "11db50b7",
   "metadata": {},
   "outputs": [],
   "source": []
  }
 ],
 "metadata": {
  "kernelspec": {
   "display_name": "pytorch",
   "language": "python",
   "name": "pytorch"
  },
  "language_info": {
   "codemirror_mode": {
    "name": "ipython",
    "version": 3
   },
   "file_extension": ".py",
   "mimetype": "text/x-python",
   "name": "python",
   "nbconvert_exporter": "python",
   "pygments_lexer": "ipython3",
   "version": "3.8.5"
  }
 },
 "nbformat": 4,
 "nbformat_minor": 5
}
